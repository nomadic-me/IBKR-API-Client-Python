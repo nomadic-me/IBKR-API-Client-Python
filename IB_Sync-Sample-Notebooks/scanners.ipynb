{
 "cells": [
  {
   "cell_type": "markdown",
   "metadata": {},
   "source": [
    "# Scanners"
   ]
  },
  {
   "cell_type": "code",
   "execution_count": null,
   "metadata": {},
   "outputs": [],
   "source": [
    "from ib_insync import *\n",
    "util.startLoop()  \n",
    "\n",
    "ib = IB()\n",
    "ib.connect('127.0.0.1', 7496, clientId=17)"
   ]
  },
  {
   "cell_type": "markdown",
   "metadata": {},
   "source": [
    "## Basic Scanner\n",
    "\n",
    "To create a scanner, create a `ScannerSubscription` to submit to the `reqScannerData` method. For any scanner to work, at least these three fields must be filled: `instrument` (the what), `locationCode` (the where), and `scanCode` (the ranking).\n",
    "\n",
    "For example, to find the top ranked US stock percentage gainers:"
   ]
  },
  {
   "cell_type": "code",
   "execution_count": null,
   "metadata": {},
   "outputs": [],
   "source": [
    "sub = ScannerSubscription(\n",
    "    instrument='STK', \n",
    "    locationCode='STK.US.MAJOR', \n",
    "    scanCode='TOP_PERC_GAIN')\n",
    "\n",
    "scanData = ib.reqScannerData(sub)\n",
    "\n",
    "print(f'{len(scanData)} results, first one:')\n",
    "print(scanData[0])"
   ]
  },
  {
   "cell_type": "markdown",
   "metadata": {},
   "source": [
    "*The displayed error 162 can be ignored*\n",
    "\n",
    "The scanner returns a list of contract details, without current market data (this can be obtained via seperate market data requests).\n",
    "\n",
    "## Filtering scanner results, the old way\n",
    "\n",
    "The `ScannerSubscription` object has addional parameters that can be set to filter the results, such as `abovePrice`, `aboveVolume`, `marketCapBelow` or `spRatingAbove`. \n",
    "\n",
    "For example, to reuse the previous `sub` and query only for stocks with a price above 200 dollar:"
   ]
  },
  {
   "cell_type": "code",
   "execution_count": null,
   "metadata": {},
   "outputs": [],
   "source": [
    "sub.abovePrice = 200\n",
    "scanData = ib.reqScannerData(sub)\n",
    "\n",
    "symbols = [sd.contractDetails.contract.symbol for sd in scanData]\n",
    "print(symbols)"
   ]
  },
  {
   "cell_type": "markdown",
   "metadata": {},
   "source": [
    "## Filtering, the new way\n",
    "\n",
    "In the new way there is a truly vast number of parameters available to use for filtering.\n",
    "These new scanner parameters map directly to the options available through the TWS \"Advanced Market Scanner.\" The parameters\n",
    "are dynamically available from a huge XML document that is returned by ``reqScannerParameters``:"
   ]
  },
  {
   "cell_type": "code",
   "execution_count": null,
   "metadata": {},
   "outputs": [],
   "source": [
    "xml = ib.reqScannerParameters()\n",
    "\n",
    "print(len(xml), 'bytes')"
   ]
  },
  {
   "cell_type": "markdown",
   "metadata": {},
   "source": [
    "To view the XML in a web browser:"
   ]
  },
  {
   "cell_type": "code",
   "execution_count": null,
   "metadata": {},
   "outputs": [],
   "source": [
    "path = 'scanner_parameters.xml'\n",
    "with open(path, 'w') as f:\n",
    "    f.write(xml)\n",
    "\n",
    "import webbrowser\n",
    "webbrowser.open(path)"
   ]
  },
  {
   "cell_type": "code",
   "execution_count": null,
   "metadata": {},
   "outputs": [],
   "source": [
    "# parse XML document\n",
    "import xml.etree.ElementTree as ET\n",
    "tree = ET.fromstring(xml)\n",
    "\n",
    "# find all tags that are available for filtering\n",
    "tags = [elem.text for elem in tree.findall('.//AbstractField/code')]\n",
    "print(len(tags), 'tags:')\n",
    "print(tags)"
   ]
  },
  {
   "cell_type": "markdown",
   "metadata": {},
   "source": [
    "Notice how ``abovePrice`` is now called ``priceAbove``...\n",
    "\n",
    "Using three of these filter tags, let's perform a query to find all US stocks that went up 20% and have a current price between 5 and 50 dollar, sorted by percentage gain:"
   ]
  },
  {
   "cell_type": "code",
   "execution_count": null,
   "metadata": {},
   "outputs": [],
   "source": [
    "sub = ScannerSubscription(\n",
    "    instrument='STK',\n",
    "    locationCode='STK.US.MAJOR',\n",
    "    scanCode='TOP_PERC_GAIN')\n",
    "\n",
    "tagValues = [\n",
    "    TagValue(\"changePercAbove\", \"20\"),\n",
    "    TagValue('priceAbove', 5),\n",
    "    TagValue('priceBelow', 50)]\n",
    "\n",
    "# the tagValues are given as 3rd argument; the 2nd argument must always be an empty list\n",
    "# (IB has not documented the 2nd argument and it's not clear what it does)\n",
    "scanData = ib.reqScannerData(sub, [], tagValues)\n",
    "\n",
    "symbols = [sd.contractDetails.contract.symbol for sd in scanData]\n",
    "print(symbols)"
   ]
  },
  {
   "cell_type": "markdown",
   "metadata": {},
   "source": [
    "Any scanner query that TWS can do can alse be done through the API. The `scanCode` parameter maps directly to the \"Parameter\" window in the TWS \"Advanced Market Scanner.\" We can verify this by printing out the `scanCode` values available:"
   ]
  },
  {
   "cell_type": "code",
   "execution_count": null,
   "metadata": {},
   "outputs": [],
   "source": [
    "scanCodes = [e.text for e in tree.findall('.//scanCode')]\n",
    "\n",
    "print(len(scanCodes), 'scan codes, showing the ones starting with \"TOP\":')\n",
    "print([sc for sc in scanCodes if sc.startswith('TOP')])"
   ]
  },
  {
   "cell_type": "markdown",
   "metadata": {},
   "source": [
    "Queries are not limited to stocks. To get a list of all supported instruments:"
   ]
  },
  {
   "cell_type": "code",
   "execution_count": null,
   "metadata": {
    "scrolled": true
   },
   "outputs": [],
   "source": [
    "instrumentTypes = set(e.text for e in tree.findall('.//Instrument/type'))\n",
    "print(instrumentTypes)"
   ]
  },
  {
   "cell_type": "markdown",
   "metadata": {},
   "source": [
    "To find all location codes:"
   ]
  },
  {
   "cell_type": "code",
   "execution_count": null,
   "metadata": {},
   "outputs": [],
   "source": [
    "locationCodes = [e.text for e in tree.findall('.//locationCode')]\n",
    "print(locationCodes)"
   ]
  },
  {
   "cell_type": "code",
   "execution_count": null,
   "metadata": {},
   "outputs": [],
   "source": [
    "ib.disconnect()"
   ]
  },
  {
   "cell_type": "code",
   "execution_count": null,
   "metadata": {},
   "outputs": [],
   "source": []
  }
 ],
 "metadata": {
  "kernelspec": {
   "display_name": "Python 3 (ipykernel)",
   "language": "python",
   "name": "python3"
  },
  "language_info": {
   "codemirror_mode": {
    "name": "ipython",
    "version": 3
   },
   "file_extension": ".py",
   "mimetype": "text/x-python",
   "name": "python",
   "nbconvert_exporter": "python",
   "pygments_lexer": "ipython3",
   "version": "3.9.7"
  },
  "varInspector": {
   "cols": {
    "lenName": 16,
    "lenType": 16,
    "lenVar": 40
   },
   "kernels_config": {
    "python": {
     "delete_cmd_postfix": "",
     "delete_cmd_prefix": "del ",
     "library": "var_list.py",
     "varRefreshCmd": "print(var_dic_list())"
    },
    "r": {
     "delete_cmd_postfix": ") ",
     "delete_cmd_prefix": "rm(",
     "library": "var_list.r",
     "varRefreshCmd": "cat(var_dic_list()) "
    }
   },
   "types_to_exclude": [
    "module",
    "function",
    "builtin_function_or_method",
    "instance",
    "_Feature"
   ],
   "window_display": false
  }
 },
 "nbformat": 4,
 "nbformat_minor": 4
}
