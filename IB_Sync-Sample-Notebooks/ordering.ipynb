{
 "cells": [
  {
   "cell_type": "markdown",
   "metadata": {},
   "source": [
    "# Ordering\n",
    "\n",
    "\n",
    "## Warning: This notebook will place live orders\n",
    "\n",
    "Use a paper trading account (during market hours).\n"
   ]
  },
  {
   "cell_type": "code",
   "execution_count": null,
   "metadata": {
    "scrolled": true
   },
   "outputs": [],
   "source": [
    "from ib_insync import *\n",
    "import nest_asyncio\n",
    "nest_asyncio.apply()\n",
    "\n",
    "util.startLoop()\n",
    "\n",
    "ib = IB()\n",
    "ib.connect('127.0.0.1', 7496, clientId=13)\n",
    "# util.logToConsole()"
   ]
  },
  {
   "cell_type": "markdown",
   "metadata": {},
   "source": [
    "Create a contract and a market order:"
   ]
  },
  {
   "cell_type": "code",
   "execution_count": null,
   "metadata": {},
   "outputs": [],
   "source": [
    "contract = Forex('EURUSD')\n",
    "ib.qualifyContracts(contract)\n",
    "\n",
    "order = LimitOrder('SELL', 20000, 1.11)"
   ]
  },
  {
   "cell_type": "markdown",
   "metadata": {},
   "source": [
    "placeOrder will place the order order and return a ``Trade`` object right away (non-blocking):"
   ]
  },
  {
   "cell_type": "code",
   "execution_count": null,
   "metadata": {},
   "outputs": [],
   "source": [
    "trade = ib.placeOrder(contract, order)"
   ]
  },
  {
   "cell_type": "markdown",
   "metadata": {},
   "source": [
    "``trade`` contains the order and everything related to it, such as order status, fills and a log.\n",
    "It will be live updated with every status change or fill of the order."
   ]
  },
  {
   "cell_type": "code",
   "execution_count": null,
   "metadata": {
    "scrolled": true
   },
   "outputs": [],
   "source": [
    "ib.sleep(1)\n",
    "trade.log"
   ]
  },
  {
   "cell_type": "markdown",
   "metadata": {},
   "source": [
    "``trade`` will also available from ``ib.trades()``:"
   ]
  },
  {
   "cell_type": "code",
   "execution_count": null,
   "metadata": {},
   "outputs": [],
   "source": [
    "assert trade in ib.trades()"
   ]
  },
  {
   "cell_type": "markdown",
   "metadata": {},
   "source": [
    "Likewise for ``order``:"
   ]
  },
  {
   "cell_type": "code",
   "execution_count": null,
   "metadata": {},
   "outputs": [],
   "source": [
    "assert order in ib.orders()"
   ]
  },
  {
   "cell_type": "markdown",
   "metadata": {},
   "source": [
    "Now let's create a limit order with an unrealistic limit:"
   ]
  },
  {
   "cell_type": "code",
   "execution_count": null,
   "metadata": {},
   "outputs": [],
   "source": [
    "limitOrder = LimitOrder('BUY', 20000, 0.05)\n",
    "limitTrade = ib.placeOrder(contract, limitOrder)\n",
    "\n",
    "limitTrade"
   ]
  },
  {
   "cell_type": "markdown",
   "metadata": {},
   "source": [
    "``status`` will change from \"PendingSubmit\" to \"Submitted\":"
   ]
  },
  {
   "cell_type": "code",
   "execution_count": null,
   "metadata": {},
   "outputs": [],
   "source": [
    "ib.sleep(1)\n",
    "assert limitTrade.orderStatus.status == 'Submitted'"
   ]
  },
  {
   "cell_type": "code",
   "execution_count": null,
   "metadata": {},
   "outputs": [],
   "source": [
    "assert limitTrade in ib.openTrades()"
   ]
  },
  {
   "cell_type": "markdown",
   "metadata": {},
   "source": [
    "Let's modify the limit price and resubmit:"
   ]
  },
  {
   "cell_type": "code",
   "execution_count": null,
   "metadata": {},
   "outputs": [],
   "source": [
    "limitOrder.lmtPrice = 0.10\n",
    "\n",
    "ib.placeOrder(contract, limitOrder)"
   ]
  },
  {
   "cell_type": "markdown",
   "metadata": {},
   "source": [
    "And now cancel it:"
   ]
  },
  {
   "cell_type": "code",
   "execution_count": null,
   "metadata": {},
   "outputs": [],
   "source": [
    "ib.cancelOrder(limitOrder)"
   ]
  },
  {
   "cell_type": "code",
   "execution_count": null,
   "metadata": {},
   "outputs": [],
   "source": [
    "limitTrade.log"
   ]
  },
  {
   "cell_type": "markdown",
   "metadata": {},
   "source": [
    "placeOrder is not blocking and will not wait on what happens with the order.\n",
    "To make the order placement blocking, that is to wait until the order is either\n",
    "filled or canceled, consider the following:"
   ]
  },
  {
   "cell_type": "code",
   "execution_count": null,
   "metadata": {},
   "outputs": [],
   "source": [
    "%%time\n",
    "order = MarketOrder('BUY', 100)\n",
    "\n",
    "trade = ib.placeOrder(contract, order)\n",
    "while not trade.isDone():\n",
    "    ib.waitOnUpdate()"
   ]
  },
  {
   "cell_type": "markdown",
   "metadata": {},
   "source": [
    "What are our positions?"
   ]
  },
  {
   "cell_type": "code",
   "execution_count": null,
   "metadata": {
    "scrolled": true
   },
   "outputs": [],
   "source": [
    "ib.positions()"
   ]
  },
  {
   "cell_type": "markdown",
   "metadata": {},
   "source": [
    "What's the total of commissions paid today?"
   ]
  },
  {
   "cell_type": "code",
   "execution_count": null,
   "metadata": {},
   "outputs": [],
   "source": [
    "sum(fill.commissionReport.commission for fill in ib.fills())"
   ]
  },
  {
   "cell_type": "markdown",
   "metadata": {},
   "source": [
    "whatIfOrder can be used to see the commission and the margin impact of an order without actually sending the order:"
   ]
  },
  {
   "cell_type": "code",
   "execution_count": null,
   "metadata": {},
   "outputs": [],
   "source": [
    "order = MarketOrder('SELL', 20000)\n",
    "ib.whatIfOrder(contract, order)"
   ]
  },
  {
   "cell_type": "code",
   "execution_count": null,
   "metadata": {},
   "outputs": [],
   "source": [
    "ib.disconnect()"
   ]
  },
  {
   "cell_type": "code",
   "execution_count": null,
   "metadata": {},
   "outputs": [],
   "source": []
  }
 ],
 "metadata": {
  "kernelspec": {
   "display_name": "Python 3 (ipykernel)",
   "language": "python",
   "name": "python3"
  },
  "language_info": {
   "codemirror_mode": {
    "name": "ipython",
    "version": 3
   },
   "file_extension": ".py",
   "mimetype": "text/x-python",
   "name": "python",
   "nbconvert_exporter": "python",
   "pygments_lexer": "ipython3",
   "version": "3.9.7"
  }
 },
 "nbformat": 4,
 "nbformat_minor": 4
}
