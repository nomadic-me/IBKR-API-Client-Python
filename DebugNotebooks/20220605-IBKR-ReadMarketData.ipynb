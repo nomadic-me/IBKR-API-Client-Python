{
 "cells": [
  {
   "cell_type": "markdown",
   "id": "5ee248cc-d1d1-4bca-aeb3-6a73313e8315",
   "metadata": {},
   "source": [
    "# Imports\n"
   ]
  },
  {
   "cell_type": "code",
   "execution_count": 1,
   "id": "90793fef-83e7-4749-b73a-922715a2267f",
   "metadata": {},
   "outputs": [],
   "source": [
    "from ibapi.client import EClient\n",
    "from ibapi.wrapper import EWrapper\n",
    "from ibapi.contract import Contract\n",
    "from ibapi.ticktype import TickTypeEnum"
   ]
  },
  {
   "cell_type": "markdown",
   "id": "f83ff442-6457-4ad4-a617-0ada9305eca7",
   "metadata": {},
   "source": [
    "# Define Class TestApp"
   ]
  },
  {
   "cell_type": "code",
   "execution_count": 8,
   "id": "805dd1c1-8558-4d3f-a066-47745dfe28c1",
   "metadata": {},
   "outputs": [],
   "source": [
    "class TestApp(EWrapper, EClient):\n",
    "    def __init__(self):\n",
    "        EClient.__init__(self, self)\n",
    "\n",
    "    def error(self, reqId, errorCode, errorString):\n",
    "        print(\"Error: \", reqId, \" \", errorCode, \" \", errorString)\n",
    "\n",
    "    def tickPrice(self, reqId, tickType, price, attrib):\n",
    "        print(\"Tick Price. Ticker Id:\", reqId, \"tickType:\", TickTypeEnum.to_str(tickType), \"Price:\", price, end=' ')\n",
    "\n",
    "    def tickSize(self, reqId, tickType, size):\n",
    "        print(\"Tick Size. Ticker Id:\", reqId, \"tickType:\", TickTypeEnum.to_str(tickType), \"Size:\", size)"
   ]
  },
  {
   "cell_type": "markdown",
   "id": "2eac637a-d9a3-4d07-b6d7-6411401c6a65",
   "metadata": {},
   "source": [
    "# Define Main funciton:"
   ]
  },
  {
   "cell_type": "code",
   "execution_count": 9,
   "id": "a40fa4d9-66d9-47da-b2a6-4b8fb5a676d4",
   "metadata": {},
   "outputs": [],
   "source": [
    "def main():\n",
    "    app = TestApp()\n",
    "\n",
    "    app.connect(\"127.0.0.1\", 7496, 0)\n",
    "\n",
    "    contract = Contract()\n",
    "    contract.symbol = \"AAPL\"\n",
    "    contract.secType = \"STK\"\n",
    "    contract.exchange = \"SMART\"\n",
    "    contract.currency = \"USD\"\n",
    "    contract.primaryExchange = \"NASDAQ\"\n",
    "\n",
    "    app.reqMarketDataType(4)  # switch to delayed-frozen data if live is not available\n",
    "    app.reqMktData(1, contract, \"\", False, False, [])\n",
    "\n",
    "    app.run()"
   ]
  },
  {
   "cell_type": "code",
   "execution_count": 11,
   "id": "7f9bf124-d3c1-4ec4-acac-ee7e1e53bb30",
   "metadata": {},
   "outputs": [],
   "source": [
    "if __name__ == \"__main__\":\n",
    "    main()"
   ]
  },
  {
   "cell_type": "code",
   "execution_count": null,
   "id": "fea4433c-1d45-4552-9750-ad59819c7fd9",
   "metadata": {},
   "outputs": [],
   "source": []
  }
 ],
 "metadata": {
  "kernelspec": {
   "display_name": "Python 3 (ipykernel)",
   "language": "python",
   "name": "python3"
  },
  "language_info": {
   "codemirror_mode": {
    "name": "ipython",
    "version": 3
   },
   "file_extension": ".py",
   "mimetype": "text/x-python",
   "name": "python",
   "nbconvert_exporter": "python",
   "pygments_lexer": "ipython3",
   "version": "3.9.7"
  }
 },
 "nbformat": 4,
 "nbformat_minor": 5
}
