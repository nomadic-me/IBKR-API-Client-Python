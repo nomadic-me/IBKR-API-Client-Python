{
 "cells": [
  {
   "cell_type": "code",
   "execution_count": null,
   "id": "02f9f19d-1ba2-440e-9690-74e3c1cb941c",
   "metadata": {},
   "outputs": [],
   "source": [
    "from ib_insync import *\n",
    "import nest_asyncio\n",
    "nest_asyncio.apply()"
   ]
  },
  {
   "cell_type": "code",
   "execution_count": null,
   "id": "cda265b8-ffaa-4044-b9f9-b3fb5085c0c7",
   "metadata": {},
   "outputs": [],
   "source": [
    "# Import required libraries\n",
    "import pandas as pd\n",
    "import numpy as np\n",
    "import hvplot.pandas\n",
    "from pathlib import Path\n",
    "\n",
    "# Setting these options will allow for reviewing more of the DataFrames\n",
    "pd.set_option(\"display.max_rows\", 2000)\n",
    "pd.set_option(\"display.max_columns\", 2000)\n",
    "pd.set_option(\"display.width\", 1000)"
   ]
  },
  {
   "cell_type": "code",
   "execution_count": null,
   "id": "06c4c240-16b7-4903-97cd-896e02110d82",
   "metadata": {},
   "outputs": [],
   "source": [
    "ib = IB()"
   ]
  },
  {
   "cell_type": "code",
   "execution_count": null,
   "id": "9837b485-0a32-40b9-a16c-56f084469771",
   "metadata": {},
   "outputs": [],
   "source": []
  },
  {
   "cell_type": "code",
   "execution_count": null,
   "id": "846b52c8-84c4-4cda-997a-96e2fa45aefa",
   "metadata": {},
   "outputs": [],
   "source": [
    "# use this instead for IB Gateway\n",
    "# ib.connect('127.0.0.1', 7497, clientId=1)\n",
    "# us this for TWS (Workstation)\n",
    "ib.connect('127.0.0.1', 7496, clientId=3)"
   ]
  },
  {
   "cell_type": "code",
   "execution_count": null,
   "id": "6c13e7af-77e2-4d26-9f88-8a1ea949b591",
   "metadata": {},
   "outputs": [],
   "source": [
    "my_positions = ib.positions()\n",
    "df = util.df(my_positions)\n",
    "print(df.info())"
   ]
  },
  {
   "cell_type": "code",
   "execution_count": null,
   "id": "e5b1c1d7-ca8a-4b16-b3ce-b902eadaaa07",
   "metadata": {},
   "outputs": [],
   "source": [
    "#df['contract'].astype(str).split(',')\n",
    "#a=lambda x: str(x).split(',')\n",
    "#b = df['contract'].apply(a)\n",
    "c = str(df['contract'][1]).split(',')\n",
    "c"
   ]
  },
  {
   "cell_type": "code",
   "execution_count": null,
   "id": "f8e27886-7d3a-4a0f-8ebf-76ff30e836aa",
   "metadata": {},
   "outputs": [],
   "source": []
  },
  {
   "cell_type": "code",
   "execution_count": null,
   "id": "a4372267-09ce-4cef-8013-75f60a6ef0be",
   "metadata": {},
   "outputs": [],
   "source": []
  },
  {
   "cell_type": "code",
   "execution_count": null,
   "id": "b2103bb0-7ff1-4536-8bbd-60c5fce225ed",
   "metadata": {},
   "outputs": [],
   "source": []
  },
  {
   "cell_type": "code",
   "execution_count": null,
   "id": "62d4a89f-beff-4bc0-bf04-c1dd775d702c",
   "metadata": {},
   "outputs": [],
   "source": []
  },
  {
   "cell_type": "code",
   "execution_count": null,
   "id": "7ea61bd8-bc4e-49f0-8115-314232d762b8",
   "metadata": {},
   "outputs": [],
   "source": []
  },
  {
   "cell_type": "code",
   "execution_count": null,
   "id": "0c5cb935-c6d1-4846-975d-2c45eb23d06b",
   "metadata": {},
   "outputs": [],
   "source": []
  },
  {
   "cell_type": "code",
   "execution_count": null,
   "id": "f65dbc4b-43d3-4451-a49b-e67ee2c0d2cf",
   "metadata": {},
   "outputs": [],
   "source": []
  },
  {
   "cell_type": "code",
   "execution_count": null,
   "id": "08701b08-a254-4249-a712-6a159e3e21fa",
   "metadata": {},
   "outputs": [],
   "source": []
  },
  {
   "cell_type": "code",
   "execution_count": null,
   "id": "cb53785d-1e49-4397-b858-ec52d5375867",
   "metadata": {},
   "outputs": [],
   "source": [
    "stock = Stock('AMD', 'SMART', 'USD')"
   ]
  },
  {
   "cell_type": "code",
   "execution_count": null,
   "id": "2de17892-0631-492b-9efd-b18a1a6fee43",
   "metadata": {},
   "outputs": [],
   "source": [
    "bars = ib.reqHistoricalData(\n",
    "    stock, endDateTime='', durationStr='30 D',\n",
    "    barSizeSetting='1 hour', whatToShow='MIDPOINT', useRTH=True)\n",
    "\n",
    "print(bars)\n",
    "\n",
    "# convert to pandas dataframe\n",
    "df = util.df(bars)\n",
    "print(df)\n",
    "\n",
    "#market_data = ib.reqMktData(stock, '', False, False)\n",
    "\n",
    "#def onPendingTicker(ticker):\n",
    "#    print(\"pending ticker event received\")\n",
    "#    print(ticker)\n",
    "#ib.pendingTickersEvent += onPendingTicker\n",
    "\n",
    "ib.run()"
   ]
  },
  {
   "cell_type": "code",
   "execution_count": null,
   "id": "f4a2e7a0-0c06-400d-af5d-55c0827335aa",
   "metadata": {},
   "outputs": [],
   "source": [
    "bars = ib.reqHistoricalData(\n",
    "    stock, endDateTime='', durationStr='30 D',\n",
    "    barSizeSetting='1 hour', whatToShow='MIDPOINT', useRTH=True)\n",
    "print(bars)"
   ]
  },
  {
   "cell_type": "code",
   "execution_count": null,
   "id": "8026d591-033b-4ec2-9c21-1555c03d521e",
   "metadata": {},
   "outputs": [],
   "source": [
    "df = util.df(bars)\n",
    "print(df)\n"
   ]
  },
  {
   "cell_type": "code",
   "execution_count": null,
   "id": "22231259-9f80-4a01-bae6-d7e12803347c",
   "metadata": {},
   "outputs": [],
   "source": [
    "my_positions = ib.positions()\n",
    "#for i in my_positions:\n",
    "#    print(f\"\\n {i}\")\n",
    "df = util.df(my_positions)\n",
    "print(df)"
   ]
  },
  {
   "cell_type": "code",
   "execution_count": null,
   "id": "6314f426-67bb-49ef-99d1-b582c9200a0d",
   "metadata": {},
   "outputs": [],
   "source": [
    "my_accountValues = ib.accountValues()\n",
    "df = util.df(my_accountValues)\n",
    "print(df.head(50))"
   ]
  },
  {
   "cell_type": "code",
   "execution_count": null,
   "id": "ef78e93b-8c3f-4575-92c4-774b2f9d1c70",
   "metadata": {},
   "outputs": [],
   "source": []
  }
 ],
 "metadata": {
  "kernelspec": {
   "display_name": "Python 3 (ipykernel)",
   "language": "python",
   "name": "python3"
  },
  "language_info": {
   "codemirror_mode": {
    "name": "ipython",
    "version": 3
   },
   "file_extension": ".py",
   "mimetype": "text/x-python",
   "name": "python",
   "nbconvert_exporter": "python",
   "pygments_lexer": "ipython3",
   "version": "3.9.7"
  }
 },
 "nbformat": 4,
 "nbformat_minor": 5
}
